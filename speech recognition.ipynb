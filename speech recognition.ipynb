{
 "cells": [
  {
   "cell_type": "code",
   "execution_count": 1,
   "metadata": {},
   "outputs": [
    {
     "name": "stdout",
     "output_type": "stream",
     "text": [
      "Requirement already satisfied: SpeechRecognition in c:\\users\\kiit\\anaconda3\\lib\\site-packages (3.8.1)\n",
      "Note: you may need to restart the kernel to use updated packages.\n"
     ]
    }
   ],
   "source": [
    "pip install SpeechRecognition\n"
   ]
  },
  {
   "cell_type": "code",
   "execution_count": 2,
   "metadata": {},
   "outputs": [
    {
     "name": "stdout",
     "output_type": "stream",
     "text": [
      "Requirement already satisfied: wheel in c:\\users\\kiit\\anaconda3\\lib\\site-packages (0.33.6)\n",
      "Note: you may need to restart the kernel to use updated packages.\n"
     ]
    }
   ],
   "source": [
    "\n",
    "pip install wheel\n"
   ]
  },
  {
   "cell_type": "code",
   "execution_count": 3,
   "metadata": {},
   "outputs": [
    {
     "name": "stdout",
     "output_type": "stream",
     "text": [
      "Requirement already up-to-date: setuptools in c:\\users\\kiit\\anaconda3\\lib\\site-packages (46.1.3)\n",
      "Note: you may need to restart the kernel to use updated packages.\n"
     ]
    }
   ],
   "source": [
    "pip install --upgrade setuptools"
   ]
  },
  {
   "cell_type": "code",
   "execution_count": null,
   "metadata": {},
   "outputs": [],
   "source": []
  },
  {
   "cell_type": "code",
   "execution_count": 4,
   "metadata": {},
   "outputs": [
    {
     "name": "stdout",
     "output_type": "stream",
     "text": [
      "Requirement already satisfied: PyAudio==0.2.11 from file:///C:/Users/KIIT/PyAudio-0.2.11-cp37-cp37m-win_amd64.whl in c:\\users\\kiit\\anaconda3\\lib\\site-packages (0.2.11)\n",
      "Note: you may need to restart the kernel to use updated packages.\n"
     ]
    }
   ],
   "source": [
    "pip install PyAudio-0.2.11-cp37-cp37m-win_amd64.whl"
   ]
  },
  {
   "cell_type": "code",
   "execution_count": 5,
   "metadata": {},
   "outputs": [
    {
     "name": "stdout",
     "output_type": "stream",
     "text": [
      "Requirement already satisfied: PyAudio in c:\\users\\kiit\\anaconda3\\lib\\site-packages (0.2.11)\n",
      "Note: you may need to restart the kernel to use updated packages.\n"
     ]
    }
   ],
   "source": [
    " pip install PyAudio"
   ]
  },
  {
   "cell_type": "code",
   "execution_count": 6,
   "metadata": {},
   "outputs": [
    {
     "name": "stdout",
     "output_type": "stream",
     "text": [
      "Requirement already up-to-date: pyaudio in c:\\users\\kiit\\anaconda3\\lib\\site-packages (0.2.11)\n",
      "Note: you may need to restart the kernel to use updated packages.\n"
     ]
    }
   ],
   "source": [
    "pip install --upgrade pyaudio"
   ]
  },
  {
   "cell_type": "code",
   "execution_count": 7,
   "metadata": {},
   "outputs": [
    {
     "name": "stdout",
     "output_type": "stream",
     "text": [
      "Requirement already up-to-date: google-api-python-client in c:\\users\\kiit\\anaconda3\\lib\\site-packages (1.8.0)\n",
      "Requirement already up-to-date: google-auth-httplib2 in c:\\users\\kiit\\anaconda3\\lib\\site-packages (0.0.3)\n",
      "Requirement already up-to-date: google-auth-oauthlib in c:\\users\\kiit\\anaconda3\\lib\\site-packages (0.4.1)\n",
      "Requirement already satisfied, skipping upgrade: uritemplate<4dev,>=3.0.0 in c:\\users\\kiit\\anaconda3\\lib\\site-packages (from google-api-python-client) (3.0.1)\n",
      "Requirement already satisfied, skipping upgrade: google-api-core<2dev,>=1.13.0 in c:\\users\\kiit\\anaconda3\\lib\\site-packages (from google-api-python-client) (1.16.0)\n",
      "Requirement already satisfied, skipping upgrade: httplib2<1dev,>=0.9.2 in c:\\users\\kiit\\anaconda3\\lib\\site-packages (from google-api-python-client) (0.17.1)\n",
      "Requirement already satisfied, skipping upgrade: six<2dev,>=1.6.1 in c:\\users\\kiit\\anaconda3\\lib\\site-packages (from google-api-python-client) (1.12.0)\n",
      "Requirement already satisfied, skipping upgrade: google-auth>=1.4.1 in c:\\users\\kiit\\anaconda3\\lib\\site-packages (from google-api-python-client) (1.13.1)\n",
      "Requirement already satisfied, skipping upgrade: requests-oauthlib>=0.7.0 in c:\\users\\kiit\\anaconda3\\lib\\site-packages (from google-auth-oauthlib) (1.3.0)\n",
      "Requirement already satisfied, skipping upgrade: pytz in c:\\users\\kiit\\anaconda3\\lib\\site-packages (from google-api-core<2dev,>=1.13.0->google-api-python-client) (2019.3)\n",
      "Requirement already satisfied, skipping upgrade: googleapis-common-protos<2.0dev,>=1.6.0 in c:\\users\\kiit\\anaconda3\\lib\\site-packages (from google-api-core<2dev,>=1.13.0->google-api-python-client) (1.51.0)\n",
      "Requirement already satisfied, skipping upgrade: protobuf>=3.4.0 in c:\\users\\kiit\\anaconda3\\lib\\site-packages (from google-api-core<2dev,>=1.13.0->google-api-python-client) (3.11.3)\n",
      "Requirement already satisfied, skipping upgrade: requests<3.0.0dev,>=2.18.0 in c:\\users\\kiit\\anaconda3\\lib\\site-packages (from google-api-core<2dev,>=1.13.0->google-api-python-client) (2.22.0)\n",
      "Requirement already satisfied, skipping upgrade: setuptools>=34.0.0 in c:\\users\\kiit\\anaconda3\\lib\\site-packages (from google-api-core<2dev,>=1.13.0->google-api-python-client) (46.1.3)\n",
      "Requirement already satisfied, skipping upgrade: cachetools<5.0,>=2.0.0 in c:\\users\\kiit\\anaconda3\\lib\\site-packages (from google-auth>=1.4.1->google-api-python-client) (4.0.0)\n",
      "Requirement already satisfied, skipping upgrade: rsa<4.1,>=3.1.4 in c:\\users\\kiit\\anaconda3\\lib\\site-packages (from google-auth>=1.4.1->google-api-python-client) (4.0)\n",
      "Requirement already satisfied, skipping upgrade: pyasn1-modules>=0.2.1 in c:\\users\\kiit\\anaconda3\\lib\\site-packages (from google-auth>=1.4.1->google-api-python-client) (0.2.8)\n",
      "Requirement already satisfied, skipping upgrade: oauthlib>=3.0.0 in c:\\users\\kiit\\anaconda3\\lib\\site-packages (from requests-oauthlib>=0.7.0->google-auth-oauthlib) (3.1.0)\n",
      "Requirement already satisfied, skipping upgrade: urllib3!=1.25.0,!=1.25.1,<1.26,>=1.21.1 in c:\\users\\kiit\\anaconda3\\lib\\site-packages (from requests<3.0.0dev,>=2.18.0->google-api-core<2dev,>=1.13.0->google-api-python-client) (1.24.2)\n",
      "Requirement already satisfied, skipping upgrade: idna<2.9,>=2.5 in c:\\users\\kiit\\anaconda3\\lib\\site-packages (from requests<3.0.0dev,>=2.18.0->google-api-core<2dev,>=1.13.0->google-api-python-client) (2.8)\n",
      "Requirement already satisfied, skipping upgrade: certifi>=2017.4.17 in c:\\users\\kiit\\anaconda3\\lib\\site-packages (from requests<3.0.0dev,>=2.18.0->google-api-core<2dev,>=1.13.0->google-api-python-client) (2019.9.11)\n",
      "Requirement already satisfied, skipping upgrade: chardet<3.1.0,>=3.0.2 in c:\\users\\kiit\\anaconda3\\lib\\site-packages (from requests<3.0.0dev,>=2.18.0->google-api-core<2dev,>=1.13.0->google-api-python-client) (3.0.4)\n",
      "Requirement already satisfied, skipping upgrade: pyasn1>=0.1.3 in c:\\users\\kiit\\anaconda3\\lib\\site-packages (from rsa<4.1,>=3.1.4->google-auth>=1.4.1->google-api-python-client) (0.4.8)\n",
      "Note: you may need to restart the kernel to use updated packages.\n"
     ]
    }
   ],
   "source": [
    "pip install --upgrade google-api-python-client google-auth-httplib2 google-auth-oauthlib"
   ]
  },
  {
   "cell_type": "code",
   "execution_count": null,
   "metadata": {},
   "outputs": [],
   "source": []
  },
  {
   "cell_type": "code",
   "execution_count": null,
   "metadata": {},
   "outputs": [],
   "source": []
  },
  {
   "cell_type": "code",
   "execution_count": null,
   "metadata": {},
   "outputs": [],
   "source": []
  },
  {
   "cell_type": "code",
   "execution_count": 8,
   "metadata": {},
   "outputs": [
    {
     "name": "stdout",
     "output_type": "stream",
     "text": [
      "Requirement already satisfied: monotonic in c:\\users\\kiit\\anaconda3\\lib\\site-packages (1.5)\n",
      "Note: you may need to restart the kernel to use updated packages.\n"
     ]
    }
   ],
   "source": [
    "pip install monotonic"
   ]
  },
  {
   "cell_type": "code",
   "execution_count": 9,
   "metadata": {},
   "outputs": [],
   "source": [
    "import speech_recognition as sr \n",
    "mic_name = \"USB Device 0x46d:0x825: Audio (hw:1, 0)\"\n",
    "\n",
    "sample_rate = 48000\n",
    "chunk_size = 2048\n",
    "r= sr.Recognizer()\n",
    "mic = sr.Microphone()"
   ]
  },
  {
   "cell_type": "code",
   "execution_count": 10,
   "metadata": {},
   "outputs": [
    {
     "name": "stdout",
     "output_type": "stream",
     "text": [
      "['Microsoft Sound Mapper - Input', 'External Microphone (Conexant I', 'Internal Microphone (Conexant I', 'Microsoft Sound Mapper - Output', 'Headphones (Conexant ISST Audio', 'Speakers (Conexant ISST Audio)', 'Primary Sound Capture Driver', 'External Microphone (Conexant ISST Audio)', 'Internal Microphone (Conexant ISST Audio)', 'Primary Sound Driver', 'Headphones (Conexant ISST Audio)', 'Speakers (Conexant ISST Audio)', 'Speakers (Conexant ISST Audio)', 'Headphones (Conexant ISST Audio)', 'External Microphone (Conexant ISST Audio)', 'Internal Microphone (Conexant ISST Audio)', 'Output 1 (Conexant ISST Audio output)', 'Output 2 (Conexant ISST Audio output)', 'Input (Conexant ISST Audio output)', 'Microphone (Conexant ISST Audio capture)', 'Headphones (Conexant ISST Audio headphone)', 'Microphone Array (Conexant ISST Audio capture)']\n"
     ]
    }
   ],
   "source": [
    "mic_list = sr.Microphone.list_microphone_names() \n",
    "print (mic_list)"
   ]
  },
  {
   "cell_type": "code",
   "execution_count": 11,
   "metadata": {},
   "outputs": [],
   "source": [
    "with mic as source:\n",
    "    r.adjust_for_ambient_noise(source)\n",
    "    audio = r.listen(source)"
   ]
  },
  {
   "cell_type": "code",
   "execution_count": 12,
   "metadata": {},
   "outputs": [
    {
     "data": {
      "text/plain": [
       "'ok ok ok ok'"
      ]
     },
     "execution_count": 12,
     "metadata": {},
     "output_type": "execute_result"
    }
   ],
   "source": [
    "r.recognize_google(audio)"
   ]
  },
  {
   "cell_type": "code",
   "execution_count": null,
   "metadata": {},
   "outputs": [],
   "source": []
  },
  {
   "cell_type": "code",
   "execution_count": null,
   "metadata": {},
   "outputs": [],
   "source": []
  },
  {
   "cell_type": "code",
   "execution_count": null,
   "metadata": {},
   "outputs": [],
   "source": []
  },
  {
   "cell_type": "code",
   "execution_count": null,
   "metadata": {},
   "outputs": [],
   "source": []
  },
  {
   "cell_type": "code",
   "execution_count": null,
   "metadata": {},
   "outputs": [],
   "source": []
  },
  {
   "cell_type": "code",
   "execution_count": null,
   "metadata": {},
   "outputs": [],
   "source": []
  },
  {
   "cell_type": "code",
   "execution_count": null,
   "metadata": {},
   "outputs": [],
   "source": []
  },
  {
   "cell_type": "code",
   "execution_count": null,
   "metadata": {},
   "outputs": [],
   "source": []
  }
 ],
 "metadata": {
  "kernelspec": {
   "display_name": "Python 3",
   "language": "python",
   "name": "python3"
  },
  "language_info": {
   "codemirror_mode": {
    "name": "ipython",
    "version": 3
   },
   "file_extension": ".py",
   "mimetype": "text/x-python",
   "name": "python",
   "nbconvert_exporter": "python",
   "pygments_lexer": "ipython3",
   "version": "3.7.4"
  }
 },
 "nbformat": 4,
 "nbformat_minor": 2
}
